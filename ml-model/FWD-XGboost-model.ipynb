{
 "cells": [
  {
   "cell_type": "code",
   "execution_count": 18,
   "id": "70f33657",
   "metadata": {},
   "outputs": [
    {
     "name": "stdout",
     "output_type": "stream",
     "text": [
      "Defaulting to user installation because normal site-packages is not writeable\n",
      "Requirement already satisfied: xgboost in /home/u184558/.local/lib/python3.9/site-packages (1.7.3)\n",
      "Requirement already satisfied: numpy in /glob/development-tools/versions/oneapi/2023.0.1/oneapi/pytorch/1.13.0.0/lib/python3.9/site-packages (from xgboost) (1.22.3)\n",
      "Requirement already satisfied: scipy in /glob/development-tools/versions/oneapi/2023.0.1/oneapi/pytorch/1.13.0.0/lib/python3.9/site-packages (from xgboost) (1.7.3)\n",
      "Note: you may need to restart the kernel to use updated packages.\n"
     ]
    }
   ],
   "source": [
    "pip install xgboost"
   ]
  },
  {
   "cell_type": "code",
   "execution_count": 19,
   "id": "041b6547",
   "metadata": {},
   "outputs": [],
   "source": [
    "import pandas as pd\n",
    "import numpy as np\n",
    "import xgboost as xgb\n",
    "from sklearn.model_selection import train_test_split\n",
    "from sklearn.metrics import accuracy_score"
   ]
  },
  {
   "cell_type": "code",
   "execution_count": 20,
   "id": "91235649",
   "metadata": {},
   "outputs": [],
   "source": [
    "fwd_og = pd.read_csv(\"processed_data.csv\")"
   ]
  },
  {
   "cell_type": "code",
   "execution_count": 21,
   "id": "f9ea47f6-18eb-4d2d-b247-950767adef87",
   "metadata": {},
   "outputs": [],
   "source": [
    "fwd_data=fwd_og"
   ]
  },
  {
   "cell_type": "code",
   "execution_count": 22,
   "id": "7bb04b24-a7db-453a-a42a-956d7e798f51",
   "metadata": {},
   "outputs": [],
   "source": [
    "# Deleting unwanted Columns\n",
    "fwd_data=fwd_data.drop('Index', axis=1)\n",
    "fwd_data=fwd_data.drop('Month', axis=1)\n",
    "fwd_data=fwd_data.drop('Day', axis=1)\n",
    "fwd_data=fwd_data.drop('Time of Day', axis=1)\n",
    "fwd_data=fwd_data.drop('Source', axis=1)"
   ]
  },
  {
   "cell_type": "code",
   "execution_count": 23,
   "id": "3df61e01-7eaa-4235-8d3e-67fb0e53df68",
   "metadata": {},
   "outputs": [
    {
     "data": {
      "text/html": [
       "<div>\n",
       "<style scoped>\n",
       "    .dataframe tbody tr th:only-of-type {\n",
       "        vertical-align: middle;\n",
       "    }\n",
       "\n",
       "    .dataframe tbody tr th {\n",
       "        vertical-align: top;\n",
       "    }\n",
       "\n",
       "    .dataframe thead th {\n",
       "        text-align: right;\n",
       "    }\n",
       "</style>\n",
       "<table border=\"1\" class=\"dataframe\">\n",
       "  <thead>\n",
       "    <tr style=\"text-align: right;\">\n",
       "      <th></th>\n",
       "      <th>pH</th>\n",
       "      <th>Iron</th>\n",
       "      <th>Nitrate</th>\n",
       "      <th>Chloride</th>\n",
       "      <th>Lead</th>\n",
       "      <th>Zinc</th>\n",
       "      <th>Color</th>\n",
       "      <th>Turbidity</th>\n",
       "      <th>Fluoride</th>\n",
       "      <th>Copper</th>\n",
       "      <th>Odor</th>\n",
       "      <th>Sulfate</th>\n",
       "      <th>Conductivity</th>\n",
       "      <th>Chlorine</th>\n",
       "      <th>Manganese</th>\n",
       "      <th>Total Dissolved Solids</th>\n",
       "      <th>Water Temperature</th>\n",
       "      <th>Air Temperature</th>\n",
       "      <th>Target</th>\n",
       "    </tr>\n",
       "  </thead>\n",
       "  <tbody>\n",
       "    <tr>\n",
       "      <th>0</th>\n",
       "      <td>8.332988</td>\n",
       "      <td>0.000083</td>\n",
       "      <td>8.605777</td>\n",
       "      <td>122.799772</td>\n",
       "      <td>3.713298e-52</td>\n",
       "      <td>3.434827</td>\n",
       "      <td>0</td>\n",
       "      <td>0.022683</td>\n",
       "      <td>0.607283</td>\n",
       "      <td>0.144599</td>\n",
       "      <td>1.626212</td>\n",
       "      <td>87.266538</td>\n",
       "      <td>471.683357</td>\n",
       "      <td>3.708178</td>\n",
       "      <td>2.269945e-15</td>\n",
       "      <td>332.118789</td>\n",
       "      <td>19.129818</td>\n",
       "      <td>43.493324</td>\n",
       "      <td>0</td>\n",
       "    </tr>\n",
       "    <tr>\n",
       "      <th>1</th>\n",
       "      <td>6.917863</td>\n",
       "      <td>0.000081</td>\n",
       "      <td>3.734167</td>\n",
       "      <td>227.029851</td>\n",
       "      <td>7.849262e-94</td>\n",
       "      <td>1.245317</td>\n",
       "      <td>1</td>\n",
       "      <td>0.019007</td>\n",
       "      <td>0.622874</td>\n",
       "      <td>0.437835</td>\n",
       "      <td>1.686049</td>\n",
       "      <td>144.010981</td>\n",
       "      <td>432.844908</td>\n",
       "      <td>3.292038</td>\n",
       "      <td>8.024076e-07</td>\n",
       "      <td>284.641984</td>\n",
       "      <td>15.348981</td>\n",
       "      <td>71.220586</td>\n",
       "      <td>0</td>\n",
       "    </tr>\n",
       "    <tr>\n",
       "      <th>2</th>\n",
       "      <td>5.443762</td>\n",
       "      <td>0.020106</td>\n",
       "      <td>3.816994</td>\n",
       "      <td>230.995630</td>\n",
       "      <td>5.286616e-76</td>\n",
       "      <td>0.528280</td>\n",
       "      <td>2</td>\n",
       "      <td>0.319956</td>\n",
       "      <td>0.423423</td>\n",
       "      <td>0.431588</td>\n",
       "      <td>3.414619</td>\n",
       "      <td>275.702107</td>\n",
       "      <td>990.201209</td>\n",
       "      <td>3.560224</td>\n",
       "      <td>7.007989e-02</td>\n",
       "      <td>570.054094</td>\n",
       "      <td>11.643467</td>\n",
       "      <td>44.891330</td>\n",
       "      <td>0</td>\n",
       "    </tr>\n",
       "    <tr>\n",
       "      <th>3</th>\n",
       "      <td>7.955339</td>\n",
       "      <td>0.143988</td>\n",
       "      <td>8.224944</td>\n",
       "      <td>178.129940</td>\n",
       "      <td>3.997118e-176</td>\n",
       "      <td>4.027879</td>\n",
       "      <td>4</td>\n",
       "      <td>0.166319</td>\n",
       "      <td>0.208454</td>\n",
       "      <td>0.239451</td>\n",
       "      <td>1.803459</td>\n",
       "      <td>147.163233</td>\n",
       "      <td>237.028467</td>\n",
       "      <td>3.516907</td>\n",
       "      <td>2.468295e-02</td>\n",
       "      <td>100.043838</td>\n",
       "      <td>10.092392</td>\n",
       "      <td>60.843233</td>\n",
       "      <td>0</td>\n",
       "    </tr>\n",
       "    <tr>\n",
       "      <th>4</th>\n",
       "      <td>8.091909</td>\n",
       "      <td>0.002167</td>\n",
       "      <td>9.925788</td>\n",
       "      <td>186.540872</td>\n",
       "      <td>4.171069e-132</td>\n",
       "      <td>3.807511</td>\n",
       "      <td>2</td>\n",
       "      <td>0.004867</td>\n",
       "      <td>0.222912</td>\n",
       "      <td>0.616574</td>\n",
       "      <td>0.795310</td>\n",
       "      <td>175.275175</td>\n",
       "      <td>385.025855</td>\n",
       "      <td>3.177849</td>\n",
       "      <td>3.296139e-03</td>\n",
       "      <td>168.075545</td>\n",
       "      <td>15.249416</td>\n",
       "      <td>69.336671</td>\n",
       "      <td>0</td>\n",
       "    </tr>\n",
       "  </tbody>\n",
       "</table>\n",
       "</div>"
      ],
      "text/plain": [
       "         pH      Iron   Nitrate    Chloride           Lead      Zinc  Color  \\\n",
       "0  8.332988  0.000083  8.605777  122.799772   3.713298e-52  3.434827      0   \n",
       "1  6.917863  0.000081  3.734167  227.029851   7.849262e-94  1.245317      1   \n",
       "2  5.443762  0.020106  3.816994  230.995630   5.286616e-76  0.528280      2   \n",
       "3  7.955339  0.143988  8.224944  178.129940  3.997118e-176  4.027879      4   \n",
       "4  8.091909  0.002167  9.925788  186.540872  4.171069e-132  3.807511      2   \n",
       "\n",
       "   Turbidity  Fluoride    Copper      Odor     Sulfate  Conductivity  \\\n",
       "0   0.022683  0.607283  0.144599  1.626212   87.266538    471.683357   \n",
       "1   0.019007  0.622874  0.437835  1.686049  144.010981    432.844908   \n",
       "2   0.319956  0.423423  0.431588  3.414619  275.702107    990.201209   \n",
       "3   0.166319  0.208454  0.239451  1.803459  147.163233    237.028467   \n",
       "4   0.004867  0.222912  0.616574  0.795310  175.275175    385.025855   \n",
       "\n",
       "   Chlorine     Manganese  Total Dissolved Solids  Water Temperature  \\\n",
       "0  3.708178  2.269945e-15              332.118789          19.129818   \n",
       "1  3.292038  8.024076e-07              284.641984          15.348981   \n",
       "2  3.560224  7.007989e-02              570.054094          11.643467   \n",
       "3  3.516907  2.468295e-02              100.043838          10.092392   \n",
       "4  3.177849  3.296139e-03              168.075545          15.249416   \n",
       "\n",
       "   Air Temperature  Target  \n",
       "0        43.493324       0  \n",
       "1        71.220586       0  \n",
       "2        44.891330       0  \n",
       "3        60.843233       0  \n",
       "4        69.336671       0  "
      ]
     },
     "execution_count": 23,
     "metadata": {},
     "output_type": "execute_result"
    }
   ],
   "source": [
    "fwd_data.head()"
   ]
  },
  {
   "cell_type": "code",
   "execution_count": 24,
   "id": "3ff2aeb7",
   "metadata": {},
   "outputs": [],
   "source": [
    "# Split the dataframe into features and target\n",
    "X = fwd_data.drop('Target', axis=1)\n",
    "y = fwd_data['Target']"
   ]
  },
  {
   "cell_type": "code",
   "execution_count": 25,
   "id": "29714194",
   "metadata": {},
   "outputs": [],
   "source": [
    "# Split the data into training and testing sets\n",
    "X_train, X_test, y_train, y_test = train_test_split(X, y, test_size=0.2, random_state=42)\n"
   ]
  },
  {
   "cell_type": "code",
   "execution_count": 26,
   "id": "87a76575",
   "metadata": {},
   "outputs": [
    {
     "data": {
      "text/html": [
       "<style>#sk-container-id-2 {color: black;background-color: white;}#sk-container-id-2 pre{padding: 0;}#sk-container-id-2 div.sk-toggleable {background-color: white;}#sk-container-id-2 label.sk-toggleable__label {cursor: pointer;display: block;width: 100%;margin-bottom: 0;padding: 0.3em;box-sizing: border-box;text-align: center;}#sk-container-id-2 label.sk-toggleable__label-arrow:before {content: \"▸\";float: left;margin-right: 0.25em;color: #696969;}#sk-container-id-2 label.sk-toggleable__label-arrow:hover:before {color: black;}#sk-container-id-2 div.sk-estimator:hover label.sk-toggleable__label-arrow:before {color: black;}#sk-container-id-2 div.sk-toggleable__content {max-height: 0;max-width: 0;overflow: hidden;text-align: left;background-color: #f0f8ff;}#sk-container-id-2 div.sk-toggleable__content pre {margin: 0.2em;color: black;border-radius: 0.25em;background-color: #f0f8ff;}#sk-container-id-2 input.sk-toggleable__control:checked~div.sk-toggleable__content {max-height: 200px;max-width: 100%;overflow: auto;}#sk-container-id-2 input.sk-toggleable__control:checked~label.sk-toggleable__label-arrow:before {content: \"▾\";}#sk-container-id-2 div.sk-estimator input.sk-toggleable__control:checked~label.sk-toggleable__label {background-color: #d4ebff;}#sk-container-id-2 div.sk-label input.sk-toggleable__control:checked~label.sk-toggleable__label {background-color: #d4ebff;}#sk-container-id-2 input.sk-hidden--visually {border: 0;clip: rect(1px 1px 1px 1px);clip: rect(1px, 1px, 1px, 1px);height: 1px;margin: -1px;overflow: hidden;padding: 0;position: absolute;width: 1px;}#sk-container-id-2 div.sk-estimator {font-family: monospace;background-color: #f0f8ff;border: 1px dotted black;border-radius: 0.25em;box-sizing: border-box;margin-bottom: 0.5em;}#sk-container-id-2 div.sk-estimator:hover {background-color: #d4ebff;}#sk-container-id-2 div.sk-parallel-item::after {content: \"\";width: 100%;border-bottom: 1px solid gray;flex-grow: 1;}#sk-container-id-2 div.sk-label:hover label.sk-toggleable__label {background-color: #d4ebff;}#sk-container-id-2 div.sk-serial::before {content: \"\";position: absolute;border-left: 1px solid gray;box-sizing: border-box;top: 0;bottom: 0;left: 50%;z-index: 0;}#sk-container-id-2 div.sk-serial {display: flex;flex-direction: column;align-items: center;background-color: white;padding-right: 0.2em;padding-left: 0.2em;position: relative;}#sk-container-id-2 div.sk-item {position: relative;z-index: 1;}#sk-container-id-2 div.sk-parallel {display: flex;align-items: stretch;justify-content: center;background-color: white;position: relative;}#sk-container-id-2 div.sk-item::before, #sk-container-id-2 div.sk-parallel-item::before {content: \"\";position: absolute;border-left: 1px solid gray;box-sizing: border-box;top: 0;bottom: 0;left: 50%;z-index: -1;}#sk-container-id-2 div.sk-parallel-item {display: flex;flex-direction: column;z-index: 1;position: relative;background-color: white;}#sk-container-id-2 div.sk-parallel-item:first-child::after {align-self: flex-end;width: 50%;}#sk-container-id-2 div.sk-parallel-item:last-child::after {align-self: flex-start;width: 50%;}#sk-container-id-2 div.sk-parallel-item:only-child::after {width: 0;}#sk-container-id-2 div.sk-dashed-wrapped {border: 1px dashed gray;margin: 0 0.4em 0.5em 0.4em;box-sizing: border-box;padding-bottom: 0.4em;background-color: white;}#sk-container-id-2 div.sk-label label {font-family: monospace;font-weight: bold;display: inline-block;line-height: 1.2em;}#sk-container-id-2 div.sk-label-container {text-align: center;}#sk-container-id-2 div.sk-container {/* jupyter's `normalize.less` sets `[hidden] { display: none; }` but bootstrap.min.css set `[hidden] { display: none !important; }` so we also need the `!important` here to be able to override the default hidden behavior on the sphinx rendered scikit-learn.org. See: https://github.com/scikit-learn/scikit-learn/issues/21755 */display: inline-block !important;position: relative;}#sk-container-id-2 div.sk-text-repr-fallback {display: none;}</style><div id=\"sk-container-id-2\" class=\"sk-top-container\"><div class=\"sk-text-repr-fallback\"><pre>XGBClassifier(base_score=None, booster=None, callbacks=None,\n",
       "              colsample_bylevel=None, colsample_bynode=None,\n",
       "              colsample_bytree=None, early_stopping_rounds=None,\n",
       "              enable_categorical=False, eval_metric=None, feature_types=None,\n",
       "              gamma=None, gpu_id=None, grow_policy=None, importance_type=None,\n",
       "              interaction_constraints=None, learning_rate=None, max_bin=None,\n",
       "              max_cat_threshold=None, max_cat_to_onehot=None,\n",
       "              max_delta_step=None, max_depth=None, max_leaves=None,\n",
       "              min_child_weight=None, missing=nan, monotone_constraints=None,\n",
       "              n_estimators=100, n_jobs=None, num_parallel_tree=None,\n",
       "              predictor=None, random_state=None, ...)</pre><b>In a Jupyter environment, please rerun this cell to show the HTML representation or trust the notebook. <br />On GitHub, the HTML representation is unable to render, please try loading this page with nbviewer.org.</b></div><div class=\"sk-container\" hidden><div class=\"sk-item\"><div class=\"sk-estimator sk-toggleable\"><input class=\"sk-toggleable__control sk-hidden--visually\" id=\"sk-estimator-id-2\" type=\"checkbox\" checked><label for=\"sk-estimator-id-2\" class=\"sk-toggleable__label sk-toggleable__label-arrow\">XGBClassifier</label><div class=\"sk-toggleable__content\"><pre>XGBClassifier(base_score=None, booster=None, callbacks=None,\n",
       "              colsample_bylevel=None, colsample_bynode=None,\n",
       "              colsample_bytree=None, early_stopping_rounds=None,\n",
       "              enable_categorical=False, eval_metric=None, feature_types=None,\n",
       "              gamma=None, gpu_id=None, grow_policy=None, importance_type=None,\n",
       "              interaction_constraints=None, learning_rate=None, max_bin=None,\n",
       "              max_cat_threshold=None, max_cat_to_onehot=None,\n",
       "              max_delta_step=None, max_depth=None, max_leaves=None,\n",
       "              min_child_weight=None, missing=nan, monotone_constraints=None,\n",
       "              n_estimators=100, n_jobs=None, num_parallel_tree=None,\n",
       "              predictor=None, random_state=None, ...)</pre></div></div></div></div></div>"
      ],
      "text/plain": [
       "XGBClassifier(base_score=None, booster=None, callbacks=None,\n",
       "              colsample_bylevel=None, colsample_bynode=None,\n",
       "              colsample_bytree=None, early_stopping_rounds=None,\n",
       "              enable_categorical=False, eval_metric=None, feature_types=None,\n",
       "              gamma=None, gpu_id=None, grow_policy=None, importance_type=None,\n",
       "              interaction_constraints=None, learning_rate=None, max_bin=None,\n",
       "              max_cat_threshold=None, max_cat_to_onehot=None,\n",
       "              max_delta_step=None, max_depth=None, max_leaves=None,\n",
       "              min_child_weight=None, missing=nan, monotone_constraints=None,\n",
       "              n_estimators=100, n_jobs=None, num_parallel_tree=None,\n",
       "              predictor=None, random_state=None, ...)"
      ]
     },
     "execution_count": 26,
     "metadata": {},
     "output_type": "execute_result"
    }
   ],
   "source": [
    "# Create the XGBoost model\n",
    "xgb_model = xgb.XGBClassifier()\n",
    "xgb_model.fit(X_train, y_train)"
   ]
  },
  {
   "cell_type": "code",
   "execution_count": 27,
   "id": "d0209d28",
   "metadata": {},
   "outputs": [],
   "source": [
    "# Make predictions on the test data\n",
    "y_pred = xgb_model.predict(X_test)"
   ]
  },
  {
   "cell_type": "code",
   "execution_count": 28,
   "id": "808efad5",
   "metadata": {},
   "outputs": [
    {
     "name": "stdout",
     "output_type": "stream",
     "text": [
      "Accuracy: 0.8651660400765842\n"
     ]
    }
   ],
   "source": [
    "\n",
    "# Evaluate the model's performance\n",
    "acc = accuracy_score(y_test, y_pred)\n",
    "print(\"Accuracy:\", acc)"
   ]
  },
  {
   "cell_type": "code",
   "execution_count": 29,
   "id": "a1c02b58",
   "metadata": {},
   "outputs": [
    {
     "name": "stdout",
     "output_type": "stream",
     "text": [
      "Accuracy:  0.8651660400765842\n",
      "Confusion Matrix: \n",
      " [[711703 119451]\n",
      " [ 41186 319029]]\n",
      "Classification Report: \n",
      "               precision    recall  f1-score   support\n",
      "\n",
      "           0       0.95      0.86      0.90    831154\n",
      "           1       0.73      0.89      0.80    360215\n",
      "\n",
      "    accuracy                           0.87   1191369\n",
      "   macro avg       0.84      0.87      0.85   1191369\n",
      "weighted avg       0.88      0.87      0.87   1191369\n",
      "\n"
     ]
    }
   ],
   "source": [
    "import numpy as np\n",
    "from sklearn.metrics import confusion_matrix, accuracy_score, classification_report\n",
    "\n",
    "# Calculate prediction and actual values\n",
    "\n",
    "y_pred = np.round(y_pred)\n",
    "y_test = np.array(y_test)\n",
    "\n",
    "# Calculate accuracy\n",
    "acc = accuracy_score(y_test, y_pred)\n",
    "print(\"Accuracy: \", acc)\n",
    "\n",
    "# Calculate confusion matrix\n",
    "cm = confusion_matrix(y_test, y_pred)\n",
    "print(\"Confusion Matrix: \\n\", cm)\n",
    "\n",
    "# Calculate precision, recall and F1-score\n",
    "cr = classification_report(y_test, y_pred)\n",
    "print(\"Classification Report: \\n\", cr)"
   ]
  },
  {
   "cell_type": "markdown",
   "id": "ae0ac890",
   "metadata": {},
   "source": [
    "- Accuracy: This is a common metric used to evaluate classification models. It is the percentage of correctly classified samples out of the total number of samples. In this case, the accuracy is 0.8647, which means that the model correctly classified 86.47% of the samples.\n",
    "\n",
    "- Confusion matrix: A confusion matrix shows the number of true positive, true negative, false positive, and false negative predictions made by the model. In this case, the confusion matrix shows that the model predicted 690,343 true negatives (TN), 115,272 false positives (FP), 39,202 false negatives (FN), and 297,160 true positives (TP).\n",
    "\n",
    "- Classification report: A classification report provides a summary of different metrics used to evaluate the performance of the model. It includes precision, recall, and F1-score for each class (0 and 1 in this case), as well as the support, which is the number of samples in each class. The precision is the number of true positives divided by the total number of positive predictions, and it measures how often the model is correct when it predicts a positive. The recall is the number of true positives divided by the total number of actual positives, and it measures how often the model correctly identifies a positive. The F1-score is a harmonic mean of precision and recall. The weighted average F1-score is 0.87, which means that the model has a good balance of precision and recall.\n",
    "\n",
    "- Macro avg: This is the average of the precision, recall, and F1-score across both classes, weighted equally. In this case, the macro average F1-score is 0.85.\n",
    "\n",
    "- Weighted avg: This is the average of the precision, recall, and F1-score weighted by the number of samples in each class. In this case, the weighted average F1-score is 0.87."
   ]
  },
  {
   "cell_type": "code",
   "execution_count": 30,
   "id": "a76e1fb2",
   "metadata": {},
   "outputs": [],
   "source": [
    "import pickle\n",
    "\n",
    "# Save the model\n",
    "filename = 'fwd-classifier.pkl'\n",
    "with open(filename, 'wb') as file:\n",
    "    pickle.dump(xgb_model, file)"
   ]
  },
  {
   "cell_type": "code",
   "execution_count": null,
   "id": "2fffe55a",
   "metadata": {},
   "outputs": [],
   "source": []
  }
 ],
 "metadata": {
  "kernelspec": {
   "display_name": "PyTorch (AI kit)",
   "language": "python",
   "name": "c009-intel_distribution_of_python_3_oneapi-beta05-pytorch"
  },
  "language_info": {
   "codemirror_mode": {
    "name": "ipython",
    "version": 3
   },
   "file_extension": ".py",
   "mimetype": "text/x-python",
   "name": "python",
   "nbconvert_exporter": "python",
   "pygments_lexer": "ipython3",
   "version": "3.9.15"
  },
  "nbTranslate": {
   "displayLangs": [
    "*"
   ],
   "hotkey": "alt-t",
   "langInMainMenu": true,
   "sourceLang": "en",
   "targetLang": "fr",
   "useGoogleTranslate": true
  },
  "toc": {
   "base_numbering": 1,
   "nav_menu": {},
   "number_sections": true,
   "sideBar": true,
   "skip_h1_title": false,
   "title_cell": "Table of Contents",
   "title_sidebar": "Contents",
   "toc_cell": false,
   "toc_position": {},
   "toc_section_display": true,
   "toc_window_display": false
  }
 },
 "nbformat": 4,
 "nbformat_minor": 5
}
